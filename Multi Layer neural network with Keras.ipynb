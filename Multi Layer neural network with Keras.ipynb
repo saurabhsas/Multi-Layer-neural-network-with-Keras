{
 "cells": [
  {
   "cell_type": "markdown",
   "id": "9f0b2213",
   "metadata": {},
   "source": [
    "# Multi Layer neural network with Keras"
   ]
  },
  {
   "cell_type": "code",
   "execution_count": 1,
   "id": "81258f60",
   "metadata": {},
   "outputs": [],
   "source": [
    "import numpy as np\n",
    "import tensorflow as tf\n",
    "\n",
    "import seaborn as sns\n",
    "\n",
    "import matplotlib.pyplot as plt\n",
    "import matplotlib.image as mpimg\n",
    "\n",
    "from tensorflow.keras.models import Sequential\n",
    "from tensorflow.keras.layers import Activation, Dropout, Flatten, Dense"
   ]
  },
  {
   "cell_type": "markdown",
   "id": "1844635c",
   "metadata": {},
   "source": [
    "##### The matplotlib.image module provides functionalities for working with and displaying images within the Matplotlib framework.\n",
    "This module allows you to load and manipulate image data, apply various image processing operations, and display images in plots or figures.\n",
    "It supports various image formats such as PNG, JPEG, TIFF, and more."
   ]
  },
  {
   "cell_type": "markdown",
   "id": "ffd4c7d1",
   "metadata": {},
   "source": [
    "### Step 1: Load the data and divide it into a training and testing dataset."
   ]
  },
  {
   "cell_type": "code",
   "execution_count": 2,
   "id": "e9abad3a",
   "metadata": {},
   "outputs": [],
   "source": [
    "#Our first step is to load the data and divide it into a training and testing dataset. \n",
    "mnist = tf.keras.datasets.mnist"
   ]
  },
  {
   "cell_type": "code",
   "execution_count": 3,
   "id": "bdc879f5",
   "metadata": {},
   "outputs": [
    {
     "name": "stdout",
     "output_type": "stream",
     "text": [
      "(60000, 28, 28)\n",
      "(60000,)\n",
      "(10000, 28, 28)\n",
      "(10000,)\n"
     ]
    }
   ],
   "source": [
    "#The MNIST dataset can be downloaded directly from TensorFlow and has already been divided.\n",
    "(X_train, y_train), (X_test, y_test) = mnist.load_data()\n",
    "for i in [X_train, y_train, X_test, y_test] :\n",
    "    print(i.shape)"
   ]
  },
  {
   "cell_type": "code",
   "execution_count": 4,
   "id": "4c2ebb6d",
   "metadata": {},
   "outputs": [
    {
     "data": {
      "text/plain": [
       "array([[[  0,   0,   0,   0,   0,   0,   0,   0,  80, 156, 107, 253,\n",
       "         253, 205,  11,   0,  43, 154,   0,   0,   0,   0,   0,   0,\n",
       "           0,   0,   0,   0]]], dtype=uint8)"
      ]
     },
     "execution_count": 4,
     "metadata": {},
     "output_type": "execute_result"
    }
   ],
   "source": [
    "X_train[:1,9:10]"
   ]
  },
  {
   "cell_type": "markdown",
   "id": "63fab605",
   "metadata": {},
   "source": [
    "### Step 2: Normalize the features data"
   ]
  },
  {
   "cell_type": "code",
   "execution_count": 5,
   "id": "15cee503",
   "metadata": {},
   "outputs": [
    {
     "data": {
      "text/plain": [
       "((60000, 28, 28), (10000, 28, 28))"
      ]
     },
     "execution_count": 5,
     "metadata": {},
     "output_type": "execute_result"
    }
   ],
   "source": [
    "X_train, X_test = X_train/255, X_test/255\n",
    "X_train.shape, X_test.shape"
   ]
  },
  {
   "cell_type": "code",
   "execution_count": 6,
   "id": "d718505d",
   "metadata": {},
   "outputs": [
    {
     "data": {
      "text/plain": [
       "array([[[0.        , 0.        , 0.        , 0.        , 0.        ,\n",
       "         0.        , 0.        , 0.        , 0.31372549, 0.61176471,\n",
       "         0.41960784, 0.99215686, 0.99215686, 0.80392157, 0.04313725,\n",
       "         0.        , 0.16862745, 0.60392157, 0.        , 0.        ,\n",
       "         0.        , 0.        , 0.        , 0.        , 0.        ,\n",
       "         0.        , 0.        , 0.        ]]])"
      ]
     },
     "execution_count": 6,
     "metadata": {},
     "output_type": "execute_result"
    }
   ],
   "source": [
    "X_train[:1,9:10]"
   ]
  },
  {
   "cell_type": "markdown",
   "id": "f1c8af38",
   "metadata": {},
   "source": [
    "### Step 3: EDA with Plotting an image with colered and non-colored"
   ]
  },
  {
   "cell_type": "code",
   "execution_count": 7,
   "id": "b30e10ac",
   "metadata": {},
   "outputs": [
    {
     "data": {
      "image/png": "[encoded data removed]",
      "text/plain": [
       "<Figure size 432x288 with 1 Axes>"
      ]
     },
     "metadata": {
      "needs_background": "light"
     },
     "output_type": "display_data"
    }
   ],
   "source": [
    "#plotting the colored image\n",
    "plt.imshow(X_train[0])\n",
    "plt.show();"
   ]
  },
  {
   "cell_type": "code",
   "execution_count": 8,
   "id": "aa8a03ad",
   "metadata": {},
   "outputs": [
    {
     "data": {
      "image/png": "[encoded data removed]",
      "text/plain": [
       "<Figure size 432x288 with 1 Axes>"
      ]
     },
     "metadata": {
      "needs_background": "light"
     },
     "output_type": "display_data"
    }
   ],
   "source": [
    "#plotting the non-colored image : cmap-colormap\n",
    "plt.imshow(X_train[0], cmap = plt.cm.binary)\n",
    "plt.show();"
   ]
  },
  {
   "cell_type": "code",
   "execution_count": 9,
   "id": "053633c3",
   "metadata": {},
   "outputs": [
    {
     "name": "stderr",
     "output_type": "stream",
     "text": [
      "C:\\ProgramData\\Anaconda3\\lib\\site-packages\\seaborn\\_decorators.py:36: FutureWarning: Pass the following variable as a keyword arg: x. From version 0.12, the only valid positional argument will be `data`, and passing other arguments without an explicit keyword will result in an error or misinterpretation.\n",
      "  warnings.warn(\n"
     ]
    },
    {
     "data": {
      "text/plain": [
       "<AxesSubplot:ylabel='count'>"
      ]
     },
     "execution_count": 9,
     "metadata": {},
     "output_type": "execute_result"
    },
    {
     "data": {
      "image/png": "[encoded data removed]",
      "text/plain": [
       "<Figure size 432x288 with 1 Axes>"
      ]
     },
     "metadata": {
      "needs_background": "light"
     },
     "output_type": "display_data"
    }
   ],
   "source": [
    "# counts of each digit present in our training dataset.\n",
    "sns.countplot(y_train)"
   ]
  },
  {
   "cell_type": "markdown",
   "id": "62447656",
   "metadata": {},
   "source": [
    "### Step 4: Build multi-layer model"
   ]
  },
  {
   "cell_type": "markdown",
   "id": "bf320adc",
   "metadata": {},
   "source": [
    "#### Sequential : The Sequential class is a linear stack of layers used for building neural network models. It provides an easy way to build and train models by simply adding layers one after another.\n",
    "The add() method is used to add layers to the model.\n",
    "#### Flatten : Flatten is a layer in Keras that reshapes the input tensor into a 1-dimensional array. It is commonly used as the first layer in a neural network model when working with input data in the form of images or multidimensional arrays.\n",
    "input_shape=(28, 28) specifies the shape of the input data that will be fed into the model. In this case, it indicates that the input data is a 2-dimensional array with dimensions 28x28, representing an image with a resolution of 28 pixels by 28 pixels.\n",
    "#### Dense : When you add a Dense layer to your model using mymodel.add(Dense(...)), you are specifying the configuration and properties of that layer.\n",
    "The output of each Dense layer becomes the input to the next layer, allowing the network to learn hierarchical representations of the data."
   ]
  },
  {
   "cell_type": "markdown",
   "id": "c534f7d5",
   "metadata": {},
   "source": [
    "##### *optimizer: The optimizer determines how the model is updated based on the computed gradients of the loss function.\n",
    "##### *loss: The loss function measures the discrepancy between the predicted output and the actual target output.\n",
    "For classification tasks with mutually exclusive classes, 'sparse_categorical_crossentropy' is a commonly used loss function.\n",
    "It calculates the cross-entropy loss between the predicted class probabilities and the true class labels."
   ]
  },
  {
   "cell_type": "code",
   "execution_count": 10,
   "id": "f09e8efb",
   "metadata": {},
   "outputs": [
    {
     "name": "stdout",
     "output_type": "stream",
     "text": [
      "Epoch 1/5\n",
      "1875/1875 [==============================] - 4s 2ms/step - loss: 0.2617 - accuracy: 0.9213\n",
      "Epoch 2/5\n",
      "1875/1875 [==============================] - 3s 2ms/step - loss: 0.1127 - accuracy: 0.9659\n",
      "Epoch 3/5\n",
      "1875/1875 [==============================] - 3s 2ms/step - loss: 0.0802 - accuracy: 0.9758\n",
      "Epoch 4/5\n",
      "1875/1875 [==============================] - 3s 2ms/step - loss: 0.0616 - accuracy: 0.9806\n",
      "Epoch 5/5\n",
      "1875/1875 [==============================] - 3s 2ms/step - loss: 0.0518 - accuracy: 0.9834\n"
     ]
    },
    {
     "data": {
      "text/plain": [
       "<keras.callbacks.History at 0x20e1e3c5f70>"
      ]
     },
     "execution_count": 10,
     "metadata": {},
     "output_type": "execute_result"
    }
   ],
   "source": [
    "mymodel = Sequential()\n",
    "mymodel.add(Flatten(input_shape=(28, 28)))\n",
    "\n",
    "mymodel.add(Dense(units = 100,activation = 'relu'))\n",
    "mymodel.add(Dense(units = 60,  activation = 'relu'))\n",
    "mymodel.add(Dense(units = 30,  activation = 'relu'))\n",
    "mymodel.add(Dense(10,activation='softmax'))\n",
    "\n",
    "#mymodel.compile() is used to configure the learning process of a neural network model in Keras.\n",
    "#It defines the optimizer, loss function, and evaluation metrics to be used during training.\n",
    "mymodel.compile(optimizer='adam',\n",
    "              loss='sparse_categorical_crossentropy',\n",
    "              metrics=['accuracy'])\n",
    "\n",
    "mymodel.fit(X_train, y_train, epochs=5)"
   ]
  },
  {
   "cell_type": "markdown",
   "id": "c1b14fea",
   "metadata": {},
   "source": [
    "### Step 5: Evaluate the trained model on test dataset and make inference"
   ]
  },
  {
   "cell_type": "code",
   "execution_count": 11,
   "id": "95e720b9",
   "metadata": {},
   "outputs": [
    {
     "name": "stdout",
     "output_type": "stream",
     "text": [
      "313/313 [==============================] - 1s 1ms/step - loss: 0.1057 - accuracy: 0.9700\n"
     ]
    },
    {
     "data": {
      "text/plain": [
       "[0.10565289109945297, 0.9700000286102295]"
      ]
     },
     "execution_count": 11,
     "metadata": {},
     "output_type": "execute_result"
    }
   ],
   "source": [
    "mymodel.evaluate(X_test, y_test)"
   ]
  },
  {
   "cell_type": "code",
   "execution_count": 12,
   "id": "cb0e6aa9",
   "metadata": {},
   "outputs": [
    {
     "name": "stdout",
     "output_type": "stream",
     "text": [
      "313/313 [==============================] - 0s 1ms/step\n"
     ]
    }
   ],
   "source": [
    "#Inference\n",
    "result=mymodel.predict(X_test)"
   ]
  },
  {
   "cell_type": "code",
   "execution_count": 13,
   "id": "3c398e16",
   "metadata": {},
   "outputs": [
    {
     "data": {
      "text/plain": [
       "array([0.        , 0.00000245, 0.00000002, 0.00000221, 0.00004376,\n",
       "       0.00000002, 0.        , 0.00001465, 0.00000091, 0.999936  ],\n",
       "      dtype=float32)"
      ]
     },
     "execution_count": 13,
     "metadata": {},
     "output_type": "execute_result"
    }
   ],
   "source": [
    "# Set the print options to display in standard numbers\n",
    "np.set_printoptions(suppress=True)\n",
    "\n",
    "#sample location\n",
    "n=1000\n",
    "result[n]"
   ]
  },
  {
   "cell_type": "code",
   "execution_count": 14,
   "id": "a6c025c8",
   "metadata": {},
   "outputs": [
    {
     "data": {
      "text/plain": [
       "9"
      ]
     },
     "execution_count": 14,
     "metadata": {},
     "output_type": "execute_result"
    }
   ],
   "source": [
    "# The argmax() function in Python returns the index of the maximum value in an array.\n",
    "result[n].argmax()"
   ]
  },
  {
   "cell_type": "code",
   "execution_count": 15,
   "id": "0ed20728",
   "metadata": {},
   "outputs": [
    {
     "data": {
      "text/plain": [
       "9"
      ]
     },
     "execution_count": 15,
     "metadata": {},
     "output_type": "execute_result"
    }
   ],
   "source": [
    "#Label for comparison\n",
    "y_test[1000]"
   ]
  },
  {
   "cell_type": "raw",
   "id": "356ef57a",
   "metadata": {},
   "source": [
    "# -----------------------------------------------------------------------------------------\n",
    "# Second way to do the same as above (Multi Layer Neural Network with Keras)\n",
    "# -----------------------------------------------------------------------------------------"
   ]
  },
  {
   "cell_type": "markdown",
   "id": "2e4e2f35",
   "metadata": {},
   "source": [
    "### Step 1:  Load the data and divide it into a training and testing dataset."
   ]
  },
  {
   "cell_type": "code",
   "execution_count": 16,
   "id": "78fe038c",
   "metadata": {},
   "outputs": [
    {
     "data": {
      "image/png": "[encoded data removed]",
      "text/plain": [
       "<Figure size 432x288 with 1 Axes>"
      ]
     },
     "metadata": {
      "needs_background": "light"
     },
     "output_type": "display_data"
    }
   ],
   "source": [
    "import tensorflow as tf\n",
    "import matplotlib.pyplot as plt\n",
    "mnist = tf.keras.datasets.mnist # 28x28 images of hand-written ditits 0-9\n",
    "\n",
    "#Unpack the mnist data-set into train and test\n",
    "#These are multi-dimensional array or we can call it tensors\n",
    "(X_train, y_train), (X_test, y_test) = mnist.load_data()\n",
    "plt.imshow(X_train[0], cmap=plt.cm.binary)\n",
    "plt.show()"
   ]
  },
  {
   "cell_type": "markdown",
   "id": "9e48ce88",
   "metadata": {},
   "source": [
    "### Step 2: Normalize data-set with scaling"
   ]
  },
  {
   "cell_type": "code",
   "execution_count": 17,
   "id": "5c2cb2b7",
   "metadata": {},
   "outputs": [],
   "source": [
    "X_train = tf.keras.utils.normalize(X_train, axis=1)\n",
    "X_test = tf.keras.utils.normalize(X_test, axis=1)"
   ]
  },
  {
   "cell_type": "code",
   "execution_count": 18,
   "id": "6f6eb400",
   "metadata": {},
   "outputs": [
    {
     "data": {
      "image/png": "[encoded data removed]",
      "text/plain": [
       "<Figure size 432x288 with 1 Axes>"
      ]
     },
     "metadata": {
      "needs_background": "light"
     },
     "output_type": "display_data"
    }
   ],
   "source": [
    "#plotting the non-colored image : cmap-colormap\n",
    "plt.imshow(X_train[0], cmap=plt.cm.binary)\n",
    "plt.show()"
   ]
  },
  {
   "cell_type": "markdown",
   "id": "7101df81",
   "metadata": {},
   "source": [
    "### Step 3: Build multi-layer model"
   ]
  },
  {
   "cell_type": "code",
   "execution_count": 19,
   "id": "2d77ca1d",
   "metadata": {},
   "outputs": [
    {
     "name": "stdout",
     "output_type": "stream",
     "text": [
      "Epoch 1/3\n",
      "1875/1875 [==============================] - 4s 2ms/step - loss: 0.2669 - accuracy: 0.9213\n",
      "Epoch 2/3\n",
      "1875/1875 [==============================] - 3s 2ms/step - loss: 0.1095 - accuracy: 0.9658\n",
      "Epoch 3/3\n",
      "1875/1875 [==============================] - 3s 2ms/step - loss: 0.0731 - accuracy: 0.9772\n"
     ]
    },
    {
     "data": {
      "text/plain": [
       "<keras.callbacks.History at 0x20e4a004d30>"
      ]
     },
     "execution_count": 19,
     "metadata": {},
     "output_type": "execute_result"
    }
   ],
   "source": [
    "model = tf.keras.models.Sequential()\n",
    "model.add(tf.keras.layers.Flatten())\n",
    "\n",
    "# The first and second hidden layer has 128 nodes and uses the relu activation function.\n",
    "model.add(tf.keras.layers.Dense(128, activation=tf.nn.relu))\n",
    "model.add(tf.keras.layers.Dense(128, activation=tf.nn.relu))\n",
    "\n",
    "# The third hidden layer or output layer has one node and uses the sigmoid activation function.\n",
    "model.add(tf.keras.layers.Dense(10, activation=tf.nn.softmax))\n",
    "\n",
    "#Compile the Keras Model\n",
    "#Compiling the model uses the efficient numerical libraries under the covers (the so-called backend)\n",
    "# The backend automatically chooses the best way to represent the network for training and \n",
    "# making predictions to run on your hardware, such as CPU, GPU, or even distributed.\n",
    "#We will define the optimizer as the efficient stochastic gradient descent algorithm “adam“. \n",
    "# This is a popular version of gradient descent because it automatically tunes itself and \n",
    "# gives good results in a wide range of problems.\n",
    "\n",
    "#In this case, use cross entropy as the loss argument.\n",
    "model.compile(optimizer ='adam', \n",
    "              loss='sparse_categorical_crossentropy', \n",
    "             metrics=['accuracy'])\n",
    "\n",
    "#Train the model\n",
    "model.fit(X_train, y_train, epochs=3)"
   ]
  },
  {
   "cell_type": "markdown",
   "id": "61301ff4",
   "metadata": {},
   "source": [
    "#### An epoch means training the neural network with all the training data for one cycle. In an epoch, we use all of the data exactly once. A forward pass and a backward pass together are counted as one pass:"
   ]
  },
  {
   "cell_type": "markdown",
   "id": "4c7dbaac",
   "metadata": {},
   "source": [
    "### Step 4: Evaluate the model"
   ]
  },
  {
   "cell_type": "code",
   "execution_count": 20,
   "id": "ab4f1fa9",
   "metadata": {},
   "outputs": [
    {
     "name": "stdout",
     "output_type": "stream",
     "text": [
      "313/313 [==============================] - 0s 1ms/step - loss: 0.0951 - accuracy: 0.9720\n",
      "0.09506919234991074 0.972000002861023\n"
     ]
    }
   ],
   "source": [
    "val_loss, val_acc = model.evaluate(X_test, y_test)\n",
    "print(val_loss, val_acc)"
   ]
  },
  {
   "cell_type": "markdown",
   "id": "13201a1a",
   "metadata": {},
   "source": [
    "### Step 5: Save the model and then reload the model to make predictions"
   ]
  },
  {
   "cell_type": "code",
   "execution_count": 21,
   "id": "429c0585",
   "metadata": {},
   "outputs": [
    {
     "name": "stdout",
     "output_type": "stream",
     "text": [
      "INFO:tensorflow:Assets written to: num_reader.model\\assets\n"
     ]
    }
   ],
   "source": [
    "#Save the model\n",
    "model.save('num_reader.model')"
   ]
  },
  {
   "cell_type": "code",
   "execution_count": 22,
   "id": "cf205c38",
   "metadata": {},
   "outputs": [],
   "source": [
    "#Re-Load the model\n",
    "new_model = tf.keras.models.load_model('num_reader.model')"
   ]
  },
  {
   "cell_type": "code",
   "execution_count": 23,
   "id": "f8f09637",
   "metadata": {},
   "outputs": [
    {
     "name": "stdout",
     "output_type": "stream",
     "text": [
      "313/313 [==============================] - 0s 1ms/step\n"
     ]
    }
   ],
   "source": [
    "#Make predications: Here, it takes a list\n",
    "predictions = new_model.predict([X_test])\n",
    "#print(X_test)"
   ]
  },
  {
   "cell_type": "code",
   "execution_count": 24,
   "id": "28c7d873",
   "metadata": {},
   "outputs": [
    {
     "name": "stdout",
     "output_type": "stream",
     "text": [
      "7\n"
     ]
    }
   ],
   "source": [
    "import numpy as np\n",
    "#Using argmax function gets the indices of maximum elements of single dimensions and multi-dimensional\n",
    "#(row-wise or column-wise) of the given array.\n",
    "print(np.argmax(predictions[0]))"
   ]
  },
  {
   "cell_type": "code",
   "execution_count": 25,
   "id": "05594874",
   "metadata": {},
   "outputs": [
    {
     "data": {
      "image/png": "[encoded data removed]",
      "text/plain": [
       "<Figure size 432x288 with 1 Axes>"
      ]
     },
     "metadata": {
      "needs_background": "light"
     },
     "output_type": "display_data"
    }
   ],
   "source": [
    "plt.imshow(X_test[0], cmap = plt.cm.binary)\n",
    "plt.show()"
   ]
  }
 ],
 "metadata": {
  "kernelspec": {
   "display_name": "Python 3",
   "language": "python",
   "name": "python3"
  },
  "language_info": {
   "codemirror_mode": {
    "name": "ipython",
    "version": 3
   },
   "file_extension": ".py",
   "mimetype": "text/x-python",
   "name": "python",
   "nbconvert_exporter": "python",
   "pygments_lexer": "ipython3",
   "version": "3.8.8"
  }
 },
 "nbformat": 4,
 "nbformat_minor": 5
}
